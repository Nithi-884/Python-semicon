{
 "cells": [
  {
   "cell_type": "code",
   "execution_count": 5,
   "metadata": {},
   "outputs": [
    {
     "name": "stdout",
     "output_type": "stream",
     "text": [
      "2\n"
     ]
    }
   ],
   "source": [
    "#Create a function to get the span of substrings\n",
    "\n",
    "def getspan(string1, sub):\n",
    "\n",
    "    while True:\n",
    "        if sub in string1:\n",
    "            index = string1.find(sub)\n",
    "            print(index)\n",
    "            break\n",
    "\n",
    "getspan(\"missisipi\",\"ss\")\n",
    "\n",
    "\n",
    "\n",
    "\n",
    "\n",
    "\n",
    "# str1 = \"missisippi\"\n",
    "# \"ss\" in str1\n",
    "\n",
    "\n",
    "\n"
   ]
  },
  {
   "cell_type": "code",
   "execution_count": 17,
   "metadata": {},
   "outputs": [
    {
     "name": "stdout",
     "output_type": "stream",
     "text": [
      "issippi\n"
     ]
    },
    {
     "data": {
      "text/plain": [
       "'ss'"
      ]
     },
     "execution_count": 17,
     "metadata": {},
     "output_type": "execute_result"
    }
   ],
   "source": [
    "##-----------Breakdown\n",
    "s = \"apples\" \n",
    "ss = \"pp\"\n",
    "\n",
    "start = s.find(ss) ## start index\n",
    "end = start + len(ss)\n",
    "s[start:end]\n",
    "\n",
    "# What if there is multiple occurence\n",
    "\n",
    "s = \"mississippi\"\n",
    "ss = \"ss\"\n",
    "start = s.find(ss) ## start index\n",
    "end = start + len(ss)\n",
    "s[start:end]\n",
    "\n",
    "print(s[end:])\n",
    "\n",
    "start = s.find(ss) ## start index\n",
    "end = start + len(ss)\n",
    "s[start:end]\n",
    "\n",
    "\n",
    "\n"
   ]
  },
  {
   "cell_type": "code",
   "execution_count": null,
   "metadata": {},
   "outputs": [],
   "source": [
    "def spanSubstrings(main_str, sub_str):\n",
    "    count = 0\n",
    "    spans = []\n",
    " \n",
    "    for i in range(len(main_str) - len(sub_str) + 1):\n",
    "        if main_str[i: i + len(sub_str)] == sub_str:\n",
    "            count = count + 1\n",
    "            spans.append((i , i + len(sub_str)))\n",
    "    return count, spans\n",
    " \n",
    "str1= input(\"enter the string -> \")\n",
    "str2 = input(\"enter the sub-string -> \")\n",
    "res = spanSubstrings(str1, str2)\n",
    "print(res)\n",
    " "
   ]
  }
 ],
 "metadata": {
  "kernelspec": {
   "display_name": "Python 3",
   "language": "python",
   "name": "python3"
  },
  "language_info": {
   "codemirror_mode": {
    "name": "ipython",
    "version": 3
   },
   "file_extension": ".py",
   "mimetype": "text/x-python",
   "name": "python",
   "nbconvert_exporter": "python",
   "pygments_lexer": "ipython3",
   "version": "3.13.2"
  }
 },
 "nbformat": 4,
 "nbformat_minor": 2
}
