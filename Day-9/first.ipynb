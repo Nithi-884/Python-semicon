{
 "cells": [
  {
   "cell_type": "markdown",
   "metadata": {},
   "source": [
    "Word Jumple game\n",
    "- Is it modular\n",
    "- Can the peice of code tested\n",
    "- How easy it is to use\n",
    "- Is there any redudent code\n",
    "- Is it maintainable\n",
    "- Is it in a reusable state - No\n",
    "- Enhancements and upgradability, scalability - No\n",
    "- Modularity - No\n",
    "- Testability - No\n",
    "- Redundency - ok\n",
    "- Robust\n",
    "\n",
    "\n"
   ]
  },
  {
   "cell_type": "code",
   "execution_count": 1,
   "metadata": {},
   "outputs": [
    {
     "name": "stdout",
     "output_type": "stream",
     "text": [
      "ss\n"
     ]
    }
   ],
   "source": [
    "print(\"ss\")"
   ]
  },
  {
   "cell_type": "markdown",
   "metadata": {},
   "source": [
    "Object ---> Entity-----> Attributes\n",
    "                  -----> Methods\n"
   ]
  },
  {
   "cell_type": "markdown",
   "metadata": {},
   "source": [
    "-Everything in python is a objcet, Hence class is considered as an object in python\n",
    "\n",
    "- Constructor is a function -- executes once at the beginning of creation of object\n",
    "\n",
    "-Creates and initializes the instance variables of an object\n",
    "\n",
    "- automatically called when an object is created\n",
    "\n",
    "- defined usimg special method named __init__\n"
   ]
  },
  {
   "cell_type": "markdown",
   "metadata": {},
   "source": [
    "class variable\n",
    "--------------\n",
    "\n",
    "shared by all instances of a class\n",
    "like a non local variable visible to all functions inside the class\n"
   ]
  },
  {
   "cell_type": "markdown",
   "metadata": {},
   "source": [
    "instance variable\n",
    "\n",
    "variables which specific to objects"
   ]
  },
  {
   "cell_type": "markdown",
   "metadata": {},
   "source": [
    "methods\n",
    "\n",
    "provide public interface for every object that is created\n",
    "these are defined inside a class\n",
    "getters an and setters"
   ]
  },
  {
   "cell_type": "markdown",
   "metadata": {},
   "source": [
    "self arg\n",
    "reference of the object created\n"
   ]
  },
  {
   "cell_type": "markdown",
   "metadata": {},
   "source": [
    "special fns\n",
    "\n",
    "getattr\n",
    "hasattr\n",
    "setattr\n",
    "setattr\n",
    "delattr\n"
   ]
  },
  {
   "cell_type": "code",
   "execution_count": 15,
   "metadata": {},
   "outputs": [],
   "source": [
    "# Defining a class in python\n",
    "# all functions you write in a class should have first argument --> self\n",
    "# what ever information is passed at time of object creation is picked by the constructor if specified\n",
    "\n",
    "\n",
    "class student:\n",
    "    # constructor and instance variable initialization\n",
    "    def __init__(self,sname,sage,sgrade):\n",
    "        self.name = sname\n",
    "        self.age = sage\n",
    "        self.grade = sgrade\n",
    "        self.marks = {}\n",
    "    \n",
    "    def set_marks(self,subj,marks):\n",
    "        self.marks[subj] = marks\n",
    "\n",
    "    def average(self):\n",
    "        self.average = sum(self.marks.values())/ len(self.marks.values())\n",
    "        return self.average\n",
    "\n",
    "    def print_report(self):\n",
    "        print(f\"Name      | {self.name}\")\n",
    "        print(f\"Age      | {self.age}\")\n",
    "        print(f\"Grade      | {self.grade}\")\n",
    "\n",
    "        print(\"---------------------------------\")\n",
    "\n",
    "        for k, v in self.marks.items():\n",
    "            print(f\"{k}        |  {v}\")\n",
    "        \n",
    "        print(\"------------------------------------\")\n",
    "\n",
    "        print(\"Average              | \",self.average())\n",
    "\n",
    "\n",
    "\n",
    "\n",
    "    # class methods"
   ]
  },
  {
   "cell_type": "code",
   "execution_count": 12,
   "metadata": {},
   "outputs": [
    {
     "data": {
      "text/plain": [
       "<__main__.student at 0x1ff02eca3c0>"
      ]
     },
     "execution_count": 12,
     "metadata": {},
     "output_type": "execute_result"
    }
   ],
   "source": [
    "s = student(\"Anil\",12,\"7\")\n",
    "s1  = student(\"sunil\",12,\"7\")"
   ]
  },
  {
   "cell_type": "code",
   "execution_count": 13,
   "metadata": {},
   "outputs": [],
   "source": [
    "s.set_marks(\"Physics\",78)\n",
    "s.set_marks(\"chemistry\",88)"
   ]
  },
  {
   "cell_type": "code",
   "execution_count": 14,
   "metadata": {},
   "outputs": [
    {
     "name": "stdout",
     "output_type": "stream",
     "text": [
      "Name      | Anil\n",
      "Age      | 12\n",
      "Grade      | 7\n",
      "---------------------------------\n",
      "jjj Physics        |  78\n",
      "jjj chemistry        |  88\n",
      "------------------------------------\n",
      "Average              |  83.0\n"
     ]
    }
   ],
   "source": [
    "s.print_report()"
   ]
  },
  {
   "cell_type": "code",
   "execution_count": null,
   "metadata": {},
   "outputs": [],
   "source": []
  },
  {
   "cell_type": "markdown",
   "metadata": {},
   "source": [
    "Create a employee class with the following features: name, age, company, gross_salary, tax_rate, net_salary Implement methods to: print information, calculate net_salary based on tax rate, set the gross salary, set the tax rate"
   ]
  },
  {
   "cell_type": "code",
   "execution_count": 28,
   "metadata": {},
   "outputs": [],
   "source": [
    "class Employee:\n",
    "    def __init__(self,name,age,salary):\n",
    "        self.name = name\n",
    "        self.age = age\n",
    "        self.gross_salary = salary\n",
    "        self.taxrate = 0\n",
    "        self.net_salary = 0\n",
    "\n",
    "    def print_info(self):\n",
    "        print(\"\\nEmployee Information\")\n",
    "        print(\"------------------------------------\")\n",
    "        print(f\"Name           | {self.name}\")\n",
    "        print(f\"Age            | {self.age}\")\n",
    "       \n",
    "        print(f\"Gross Salary   | {self.gross_salary}\")\n",
    "        print(f\"Tax Rate (%)   | {self.tax_rate}\")\n",
    "        print(f\"Net Salary     | {self.calculate_net_salary()}\")\n",
    "        print(\"------------------------------------\")\n",
    "    \n",
    "    def calculate_net_salary(self):\n",
    "        self.net_salary = self.gross_salary * (1 - self.taxrate / 100)\n",
    "        return self.net_salary\n",
    "    \n",
    "    def set_gross_salary(self,gross):\n",
    "        self.gross_salary = gross\n",
    "\n",
    "    def set_tax_rate(self,tax):\n",
    "        self.taxrate = tax\n",
    "\n",
    "\n",
    "\n",
    "    \n",
    "\n"
   ]
  },
  {
   "cell_type": "code",
   "execution_count": 29,
   "metadata": {},
   "outputs": [],
   "source": [
    "emp1 = Employee(\"Rahul\",25,36000)"
   ]
  },
  {
   "cell_type": "code",
   "execution_count": 30,
   "metadata": {},
   "outputs": [
    {
     "data": {
      "text/plain": [
       "'Rahul'"
      ]
     },
     "execution_count": 30,
     "metadata": {},
     "output_type": "execute_result"
    }
   ],
   "source": [
    "emp1.name"
   ]
  },
  {
   "cell_type": "code",
   "execution_count": 31,
   "metadata": {},
   "outputs": [],
   "source": [
    "emp1.set_tax_rate(10)"
   ]
  },
  {
   "cell_type": "code",
   "execution_count": 32,
   "metadata": {},
   "outputs": [
    {
     "ename": "TypeError",
     "evalue": "'int' object is not callable",
     "output_type": "error",
     "traceback": [
      "\u001b[31m---------------------------------------------------------------------------\u001b[39m",
      "\u001b[31mTypeError\u001b[39m                                 Traceback (most recent call last)",
      "\u001b[36mCell\u001b[39m\u001b[36m \u001b[39m\u001b[32mIn[32]\u001b[39m\u001b[32m, line 1\u001b[39m\n\u001b[32m----> \u001b[39m\u001b[32m1\u001b[39m \u001b[43memp1\u001b[49m\u001b[43m.\u001b[49m\u001b[43mnet_salary\u001b[49m\u001b[43m(\u001b[49m\u001b[43m)\u001b[49m\n",
      "\u001b[31mTypeError\u001b[39m: 'int' object is not callable"
     ]
    }
   ],
   "source": [
    "emp1.net_salary()"
   ]
  },
  {
   "cell_type": "code",
   "execution_count": 33,
   "metadata": {},
   "outputs": [
    {
     "name": "stdout",
     "output_type": "stream",
     "text": [
      "\n",
      "Employee Information\n",
      "------------------------------------\n",
      "Name           | Rahul\n",
      "Age            | 25\n"
     ]
    },
    {
     "ename": "AttributeError",
     "evalue": "'Employee' object has no attribute 'company'",
     "output_type": "error",
     "traceback": [
      "\u001b[31m---------------------------------------------------------------------------\u001b[39m",
      "\u001b[31mAttributeError\u001b[39m                            Traceback (most recent call last)",
      "\u001b[36mCell\u001b[39m\u001b[36m \u001b[39m\u001b[32mIn[33]\u001b[39m\u001b[32m, line 1\u001b[39m\n\u001b[32m----> \u001b[39m\u001b[32m1\u001b[39m \u001b[43memp1\u001b[49m\u001b[43m.\u001b[49m\u001b[43mprint_info\u001b[49m\u001b[43m(\u001b[49m\u001b[43m)\u001b[49m\n",
      "\u001b[36mCell\u001b[39m\u001b[36m \u001b[39m\u001b[32mIn[28]\u001b[39m\u001b[32m, line 14\u001b[39m, in \u001b[36mEmployee.print_info\u001b[39m\u001b[34m(self)\u001b[39m\n\u001b[32m     12\u001b[39m \u001b[38;5;28mprint\u001b[39m(\u001b[33mf\u001b[39m\u001b[33m\"\u001b[39m\u001b[33mName           | \u001b[39m\u001b[38;5;132;01m{\u001b[39;00m\u001b[38;5;28mself\u001b[39m.name\u001b[38;5;132;01m}\u001b[39;00m\u001b[33m\"\u001b[39m)\n\u001b[32m     13\u001b[39m \u001b[38;5;28mprint\u001b[39m(\u001b[33mf\u001b[39m\u001b[33m\"\u001b[39m\u001b[33mAge            | \u001b[39m\u001b[38;5;132;01m{\u001b[39;00m\u001b[38;5;28mself\u001b[39m.age\u001b[38;5;132;01m}\u001b[39;00m\u001b[33m\"\u001b[39m)\n\u001b[32m---> \u001b[39m\u001b[32m14\u001b[39m \u001b[38;5;28mprint\u001b[39m(\u001b[33mf\u001b[39m\u001b[33m\"\u001b[39m\u001b[33mCompany        | \u001b[39m\u001b[38;5;132;01m{\u001b[39;00m\u001b[38;5;28;43mself\u001b[39;49m\u001b[43m.\u001b[49m\u001b[43mcompany\u001b[49m\u001b[38;5;132;01m}\u001b[39;00m\u001b[33m\"\u001b[39m)\n\u001b[32m     15\u001b[39m \u001b[38;5;28mprint\u001b[39m(\u001b[33mf\u001b[39m\u001b[33m\"\u001b[39m\u001b[33mGross Salary   | \u001b[39m\u001b[38;5;132;01m{\u001b[39;00m\u001b[38;5;28mself\u001b[39m.gross_salary\u001b[38;5;132;01m}\u001b[39;00m\u001b[33m\"\u001b[39m)\n\u001b[32m     16\u001b[39m \u001b[38;5;28mprint\u001b[39m(\u001b[33mf\u001b[39m\u001b[33m\"\u001b[39m\u001b[33mTax Rate (%)   | \u001b[39m\u001b[38;5;132;01m{\u001b[39;00m\u001b[38;5;28mself\u001b[39m.tax_rate\u001b[38;5;132;01m}\u001b[39;00m\u001b[33m\"\u001b[39m)\n",
      "\u001b[31mAttributeError\u001b[39m: 'Employee' object has no attribute 'company'"
     ]
    }
   ],
   "source": [
    "emp1.print_info()"
   ]
  },
  {
   "cell_type": "code",
   "execution_count": null,
   "metadata": {},
   "outputs": [],
   "source": []
  }
 ],
 "metadata": {
  "kernelspec": {
   "display_name": "Python 3",
   "language": "python",
   "name": "python3"
  },
  "language_info": {
   "codemirror_mode": {
    "name": "ipython",
    "version": 3
   },
   "file_extension": ".py",
   "mimetype": "text/x-python",
   "name": "python",
   "nbconvert_exporter": "python",
   "pygments_lexer": "ipython3",
   "version": "3.13.2"
  }
 },
 "nbformat": 4,
 "nbformat_minor": 2
}
